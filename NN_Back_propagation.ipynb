{
 "cells": [
  {
   "cell_type": "code",
   "execution_count": 16,
   "metadata": {},
   "outputs": [],
   "source": [
    "import numpy as np"
   ]
  },
  {
   "cell_type": "code",
   "execution_count": 26,
   "metadata": {},
   "outputs": [
    {
     "name": "stdout",
     "output_type": "stream",
     "text": [
      "[[0.92]\n",
      " [0.86]\n",
      " [0.89]]\n"
     ]
    }
   ],
   "source": [
    "#x=([hrs of studying, hrs of sleeping])\n",
    "x=np.array(([9,2],[5,1],[6,3]),dtype=float)\n",
    "#y=examination score\n",
    "y=np.array(([92],[86],[89]),dtype=float)\n",
    "\n",
    "#scaling the unit\n",
    "x=x/np.amax(x,axis=0)\n",
    "y=y/100\n",
    "print(y)"
   ]
  },
  {
   "cell_type": "code",
   "execution_count": 28,
   "metadata": {},
   "outputs": [
    {
     "name": "stdout",
     "output_type": "stream",
     "text": [
      "Input: [[1.         0.66666667]\n",
      " [0.55555556 0.33333333]\n",
      " [0.66666667 1.        ]]\n",
      "Actual output: [[0.92]\n",
      " [0.86]\n",
      " [0.89]]\n",
      "Loss: 0.0001888234982468296\n",
      "Output predicted: [[0.90058794]\n",
      " [0.87225846]\n",
      " [0.89627476]]\n"
     ]
    }
   ],
   "source": [
    "class NeuralNetwork(object):\n",
    "    def __init__(self):\n",
    "        self.inputsize=2\n",
    "        self.hiddensize=3\n",
    "        self.outputsize=1\n",
    "        \n",
    "        #Defining the weight of the network\n",
    "        self.w1=np.random.rand(self.inputsize,self.hiddensize)\n",
    "        self.w2=np.random.rand(self.hiddensize,self.outputsize)\n",
    "        \n",
    "    def feedforward(self,x):\n",
    "        self.z1=np.dot(x,self.w1)\n",
    "        self.z2=self.sigmoid(self.z1)\n",
    "        self.z3=np.dot(self.z2,self.w2)\n",
    "        output=self.sigmoid(self.z3)\n",
    "        return(output)\n",
    "    \n",
    "        \n",
    "    def sigmoid(self,s,deriv=False):\n",
    "        if(deriv==True):\n",
    "            return(s*(1-s))\n",
    "        return(1/(1+np.exp(-s)))\n",
    "    \n",
    "    def backward_propagation(self,x,y,output):\n",
    "        #Propagation through the network\n",
    "        self.output_error=y-output\n",
    "        self.output_delta=self.output_error*self.sigmoid(output,deriv=True)\n",
    "        \n",
    "        self.z2_error=self.output_delta.dot(self.w2.T)\n",
    "        self.z2_delta=self.z2_error*self.sigmoid(self.z2,deriv=True)\n",
    "        \n",
    "        #Adjusting the weight\n",
    "        self.w1+=x.T.dot(self.z2_delta) #Input to hidden layer weight\n",
    "        self.w2+=self.z2.T.dot(self.output_delta) #hidden layer to weight\n",
    "        \n",
    "    #Training the network\n",
    "    def train(self,x,y):\n",
    "        output=self.feedforward(x)\n",
    "        self.backward_propagation(x,y,output)\n",
    "NN=NeuralNetwork()\n",
    "for i in range(1000):\n",
    "    NN.train(x,y)\n",
    "print('Input:',str(x))\n",
    "print('Actual output:',str(y))\n",
    "print('Loss:',str(np.mean(np.square(y-NN.feedforward(x)))))\n",
    "print('Output predicted:',str(NN.feedforward(x)))\n",
    "    "
   ]
  },
  {
   "cell_type": "code",
   "execution_count": null,
   "metadata": {},
   "outputs": [],
   "source": [
    "\n"
   ]
  }
 ],
 "metadata": {
  "kernelspec": {
   "display_name": "Python 3",
   "language": "python",
   "name": "python3"
  },
  "language_info": {
   "codemirror_mode": {
    "name": "ipython",
    "version": 3
   },
   "file_extension": ".py",
   "mimetype": "text/x-python",
   "name": "python",
   "nbconvert_exporter": "python",
   "pygments_lexer": "ipython3",
   "version": "3.7.6"
  }
 },
 "nbformat": 4,
 "nbformat_minor": 4
}
